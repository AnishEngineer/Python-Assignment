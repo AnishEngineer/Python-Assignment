{
  "nbformat": 4,
  "nbformat_minor": 0,
  "metadata": {
    "colab": {
      "provenance": []
    },
    "kernelspec": {
      "name": "python3",
      "display_name": "Python 3"
    },
    "language_info": {
      "name": "python"
    }
  },
  "cells": [
    {
      "cell_type": "markdown",
      "source": [
        "#1. What is Python, and why is it popular.\n",
        "\n",
        "Ans:-   Python is a high-level, interpreted programming language that is widely used for various purposes such as web development, scientific computing, data analysis, artificial intelligence, and more. Created in the late 1980s by Guido van Rossum, Python is known for its simplicity, readability, and ease of use.\n",
        "\n",
        "# Why is Python Popular?\n",
        "1. Easy to Learn: Python has a simple syntax and is relatively easy to learn, making it a great language for beginners.\n",
        "2. Versatile: Python can be used for web development, data analysis, machine learning, automation, and more.\n",
        "3. Large Community: Python has a vast and active community, which means there are many resources available, including libraries, frameworks, and tutorials.\n",
        "4. Cross-Platform: Python can run on multiple operating systems, including Windows, macOS, and Linux.\n",
        "5. Extensive Libraries: Python has a vast collection of libraries and frameworks that make it easy to perform various tasks, such as data analysis, web development, and more.\n",
        "6. Fast Development: Python's syntax and nature make it ideal for rapid prototyping and development.\n",
        "7. Used in Many Industries: Python is widely used in various industries, including web development, data science, artificial intelligence, scientific computing, and more.\n",
        "\n",
        "# Applications of Python\n",
        "1. Web Development: Python is used in web development frameworks like Django and Flask.\n",
        "2. Data Science and Analytics: Python is widely used in data science and analytics, thanks to libraries like NumPy, pandas, and scikit-learn.\n",
        "3. Artificial Intelligence and Machine Learning: Python is used in AI and ML, with libraries like TensorFlow, Keras, and scikit-learn.\n",
        "4. Automation: Python is used for automating tasks, such as data entry, file management, and system administration.\n",
        "5. Scientific Computing: Python is widely used in scientific computing, thanks to libraries like NumPy, SciPy, and Pandas.\n",
        "6. Education: Python is often taught in introductory programming courses due to its simplicity and ease of use\n",
        "\n",
        "\n",
        "# 2. What is an interpreter in Python?\n",
        "\n",
        "Ans:- In Python, an interpreter is a program that directly executes the Python code, line by line, without compiling it into a machine code first.\n",
        "\n",
        "#3. What are pre-defined keywords in Python?\n",
        "\n",
        "Ans:- In Python, pre-defined keywords are reserved words that have special meanings and are used to define the syntax and structure of the language.\n",
        "\n",
        "List of Python Keywords:\n",
        "Here are the 35 pre-defined keywords in Python:\n",
        "\n",
        "1. and\n",
        "2. as\n",
        "3. assert\n",
        "4. async\n",
        "5. await\n",
        "6. break\n",
        "7. class\n",
        "8. continue\n",
        "9. def\n",
        "10. del\n",
        "11. elif\n",
        "12. else\n",
        "13. except\n",
        "14. finally\n",
        "15. for\n",
        "16. from\n",
        "17. global\n",
        "18. if\n",
        "19. import\n",
        "20. in\n",
        "21. is\n",
        "22. lambda\n",
        "23. nonlocal\n",
        "24. not\n",
        "25. or\n",
        "26. pass\n",
        "27. raise\n",
        "28. return\n",
        "29. try\n",
        "30. while\n",
        "31. with\n",
        "32. yield\n",
        "33. True\n",
        "34. False\n",
        "35. None\n",
        "\n",
        "Usage of Keywords:\n",
        "These keywords are used to define various constructs in Python, such as:\n",
        "\n",
        "- Conditional statements (if, elif, else)\n",
        "- Loops (for, while)\n",
        "- Functions (def)\n",
        "- Classes (class)\n",
        "- Exception handling (try, except, finally)\n",
        "- Importing modules (import)\n",
        "\n",
        "\n",
        "#4.Can keywords be used as variable names ?\n",
        "\n",
        "Ans:-  In Python, keywords cannot be used as variable names.\n",
        "\n",
        "\n",
        "Keywords have special meanings in Python and are reserved for specific uses. Using a keyword as a variable name would cause confusion and potentially lead to errors.\n",
        "\n",
        "#What happens if you try?\n",
        "\n",
        "\n",
        "If you try to use a keyword as a variable name, Python will raise a:\n",
        "\n",
        "SyntaxError: invalid syntax\n",
        "\n",
        "\n",
        "\n",
        "#5. What is mutability in Python ?\n",
        "\n",
        "Ans:- In Python, mutability refers to the ability of an object to change its state or value after it's created.\n",
        "\n",
        "Mutable Objects:\n",
        "Mutable objects are those that can be modified after creation. Examples include:\n",
        "\n",
        "1. Lists: [1, 2, 3]\n",
        "2. Dictionaries: {'a': 1, 'b': 2}\n",
        "3. Sets: {1, 2, 3}\n",
        "4. User-defined classes: Instances of classes defined by the user\n",
        "\n",
        "Immutable Objects:\n",
        "Immutable objects are those that cannot be modified after creation. Examples include:\n",
        "\n",
        "1. Integers: 1, 2, 3\n",
        "2. Floats: 3.14, -0.5\n",
        "3. Strings: 'hello', \"world\"\n",
        "4. Tuples: (1, 2, 3)\n",
        "5. Boolean values: True, False\n",
        "\n",
        "Key Differences:\n",
        "1. Reassignment: Mutable objects can be reassigned, while immutable objects cannot.\n",
        "2. Modification: Mutable objects can be modified in-place, while immutable objects cannot.\n",
        "\n",
        "Example:\n",
        "\n",
        "# Mutable object (list)\n",
        "my_list = [1, 2, 3]\n",
        "my_list.append(4)\n",
        "print(my_list)  # [1, 2, 3, 4]\n",
        "\n",
        "# Immutable object (tuple)\n",
        "my_tuple = (1, 2, 3)\n",
        "try:\n",
        "    my_tuple.append(4)\n",
        "except AttributeError:\n",
        "    print(\"Tuples are immutable!\")\n",
        "\n",
        "\n",
        "\n",
        "#6.  Why are lists mutable, but tuples are immutable ?\n",
        "\n",
        "Ans:-  In Python, lists and tuples are both data structures that can store multiple values. However, they have different design goals and use cases, which is why lists are mutable and tuples are immutable.\n",
        "\n",
        "Lists:\n",
        "1. Designed for modification: Lists are designed to be modified frequently. They provide methods like append, insert, remove, and sort to make it easy to add, remove, or change elements.\n",
        "2. Dynamic size: Lists can grow or shrink dynamically as elements are added or removed.\n",
        "3. Use cases: Lists are suitable for situations where data needs to be modified frequently, such as:\n",
        "    - User input validation and processing\n",
        "    - Data filtering and sorting\n",
        "    - Algorithm implementation (e.g., sorting, searching)\n",
        "\n",
        "Tuples:\n",
        "1. Designed for immutability: Tuples are designed to be immutable, meaning their contents cannot be modified after creation.\n",
        "2. Fixed size: Tuples have a fixed size, which is determined at creation time.\n",
        "3. Use cases: Tuples are suitable for situations where data is constant or rarely changes, such as:\n",
        "    - Representing a record or a row in a database\n",
        "    - Storing a collection of constants\n",
        "    - Returning multiple values from a function\n",
        "\n",
        "Reasons for immutability:\n",
        "1. Thread safety: Immutable data structures like tuples are inherently thread-safe, as multiple threads cannot modify the same tuple simultaneously.\n",
        "2. Code simplicity: Immutable data structures simplify code, as developers don't need to worry about unintended modifications.\n",
        "3. Performance: Immutable data structures can be optimized for performance, as the lack of modification eliminates the need for locking mechanisms.\n",
        "\n",
        "Reasons for mutability:\n",
        "1. Flexibility: Mutable data structures like lists provide flexibility, allowing developers to modify data as needed.\n",
        "2. Efficiency: Mutable data structures can be more efficient, as modifications can be made in-place without creating new copies.\n",
        "\n",
        "\n",
        "#7. What is the difference between “==” and “is” operators in Python\n",
        "\n",
        "Ans:- In Python, == and is are two distinct operators used for comparison.\n",
        "\n",
        "Equality Operator (==):\n",
        "1. Checks for equality: == checks if the values of two objects are equal.\n",
        "2. Compares contents: When comparing complex data structures like lists, dictionaries, or objects, == compares their contents.\n",
        "3. Returns True or False: The result of the comparison is a boolean value (True or False).\n",
        "\n",
        "Identity Operator (is):\n",
        "1. Checks for identity: is checks if two objects are the same instance, i.e., they have the same memory address.\n",
        "2. Compares memory addresses: When comparing objects, is checks if they point to the same memory location.\n",
        "3. Returns True or False: The result of the comparison is a boolean value (True or False).\n",
        "\n",
        "Key differences:\n",
        "1. Value vs. Identity: == checks for equality of values, while is checks for identity (same instance).\n",
        "2. Complex data structures: When comparing complex data structures, == compares contents, while is compares memory addresses.\n",
        "\n",
        "Example:\n",
        "\n",
        "a = [1, 2, 3]\n",
        "b = [1, 2, 3]\n",
        "\n",
        "print(a == b)  # True (equality of values)\n",
        "print(a is b)  # False (different instances)\n",
        "\n",
        "c = a\n",
        "print(a is c)  # True (same instance)\n",
        "\n",
        "\n",
        "\n",
        "#8.What are logical operators in Python ?\n",
        "\n",
        "Ans:-  In Python, logical operators are used to combine conditional statements and make decisions based on multiple conditions.\n",
        "\n",
        "Types of Logical Operators:\n",
        "1. And (and): Returns True if both conditions are True.\n",
        "2. Or (or): Returns True if at least one condition is True.\n",
        "3. Not (not): Returns the opposite of the condition (i.e., True becomes False and vice versa).\n",
        "\n",
        "Example Usage:\n",
        "\n",
        "x = 5\n",
        "y = 3\n",
        "\n",
        "# And operator\n",
        "print(x > 2 and y < 5)  # True\n",
        "\n",
        "# Or operator\n",
        "print(x > 2 or y > 5)  # True\n",
        "\n",
        "# Not operator\n",
        "print(not x > 2)  # False\n",
        "\n",
        "\n",
        "Truthy and Falsy Values:\n",
        "In Python, the following values are considered falsy:\n",
        "\n",
        "- False\n",
        "- 0\n",
        "- \"\" (empty string)\n",
        "- [] (empty list)\n",
        "- {} (empty dictionary)\n",
        "- None\n",
        "- set() (empty set)\n",
        "\n",
        "All other values are considered truthy.\n",
        "\n",
        "Chaining Logical Operators:\n",
        "You can chain logical operators to create more complex conditions:\n",
        "\n",
        "\n",
        "x = 5\n",
        "y = 3\n",
        "z = 2\n",
        "\n",
        "print(x > 2 and y < 5 or z == 2)  # True\n",
        "\n",
        "\n",
        "#9. What is type casting in Python ?\n",
        "\n",
        "Ans:- In Python, type casting is the process of converting a value from one data type to another.\n",
        "\n",
        "Types of Type Casting:\n",
        "1. Implicit Type Casting: Python automatically converts the data type of a value when it's used in an operation.\n",
        "2. Explicit Type Casting: You manually convert the data type of a value using built-in functions.\n",
        "\n",
        "Explicit Type Casting Functions:\n",
        "1. int(): Converts a value to an integer.\n",
        "2. float(): Converts a value to a floating-point number.\n",
        "3. str(): Converts a value to a string.\n",
        "4. bool(): Converts a value to a boolean.\n",
        "5. list(): Converts a value to a list.\n",
        "6. tuple(): Converts a value to a tuple.\n",
        "7. dict(): Converts a value to a dictionary.                                                                                                                                                                                                                                                                                                                     # 10. What is the difference between implicit and explicit type casting ?\n",
        "\n",
        "Ans:-In Python, type casting is the process of converting a value from one data type to another.\n",
        "\n",
        "Types of Type Casting:\n",
        "1. Implicit Type Casting: Python automatically converts the data type of a value when it's used in an operation.\n",
        "2. Explicit Type Casting: You manually convert the data type of a value using built-in functions.\n",
        "\n",
        "Explicit Type Casting Functions:\n",
        "1. int(): Converts a value to an integer.\n",
        "2. float(): Converts a value to a floating-point number.\n",
        "3. str(): Converts a value to a string.\n",
        "4. bool(): Converts a value to a boolean.\n",
        "5. list(): Converts a value to a list.\n",
        "6. tuple(): Converts a value to a tuple.\n",
        "7. dict(): Converts a value to a dictionary.\n",
        "\n",
        "\n",
        "\n",
        "#11.  What is the purpose of conditional statements in Python ?\n",
        "Ans:-In Python, conditional statements are used to control the flow of a program based on conditions or decisions.\n",
        "\n",
        "Purpose of Conditional Statements:\n",
        "1. Decision Making: Conditional statements allow your program to make decisions based on conditions, such as whether a user is logged in or not.\n",
        "2. Flow Control: Conditional statements control the flow of your program, directing it to execute specific blocks of code based on conditions.\n",
        "3. Error Handling: Conditional statements can be used to handle errors and exceptions, ensuring your program doesn't crash or produce unexpected results.\n",
        "\n",
        "Types of Conditional Statements:\n",
        "1. If-Else Statements: Used to execute a block of code if a condition is true, and another block if it's false.\n",
        "2. If-Elif-Else Statements: Used to check multiple conditions and execute different blocks of code accordingly.\n",
        "3. Nested If-Else Statements: Used to check conditions within conditions.\n",
        "\n",
        "\n",
        "\n",
        "#12.  How does the elif statement work ?\n",
        "\n",
        "Ans:- In Python, the elif statement is a combination of else and if statements. It's used to check multiple conditions and execute different blocks of code accordingly.\n",
        "\n",
        "Syntax:\n",
        "\n",
        "if condition1:\n",
        "    # code to execute if condition1 is true\n",
        "elif condition2:\n",
        "    # code to execute if condition1 is false and condition2 is true\n",
        "elif condition3:\n",
        "    # code to execute if condition1 and condition2 are false and condition3 is true\n",
        "else:\n",
        "    # code to execute if all conditions are false\n",
        "\n",
        "\n",
        "\n",
        "\n",
        "\n",
        "\n",
        "#13.  What is the difference between for and while loops ?\n",
        "\n",
        "Ans:-  In Python, for and while are two types of loops used to execute a block of code repeatedly.\n",
        "\n",
        "For Loop:\n",
        "1. Iterates over a sequence: A for loop iterates over a sequence (e.g., list, tuple, string, dictionary) and executes the code block for each item.\n",
        "2. Knows the number of iterations: The number of iterations is determined by the length of the sequence.\n",
        "3. Uses an iterator: A for loop uses an iterator to keep track of the current position in the sequence.\n",
        "\n",
        "While Loop:\n",
        "1. Continues until a condition is met: A while loop continues to execute the code block as long as a certain condition is true.\n",
        "2. Does not know the number of iterations: The number of iterations is unknown until the loop finishes.\n",
        "3. Uses a conditional statement: A while loop uses a conditional statement to determine whether to continue executing the loop.\n",
        "\n",
        "Key Differences:\n",
        "1. Iteration style: for loops iterate over a sequence, while while loops continue until a condition is met.\n",
        "2. Number of iterations: for loops know the number of iterations, while while loops do not.\n",
        "3. Loop control: for loops use an iterator, while while loops use a conditional statement.\n",
        "\n",
        "Example:\n",
        "\n",
        "# For loop example\n",
        "fruits = ['apple', 'banana', 'cherry']\n",
        "for fruit in fruits:\n",
        "    print(fruit)\n",
        "\n",
        "# While loop example\n",
        "i = 0\n",
        "while i < 5:\n",
        "    print(i)\n",
        "    i += 1\n",
        "\n",
        "\n",
        "\n",
        "\n",
        "\n",
        "#14. Describe a scenario where a while loop is more suitable than a for loop.\n",
        "\n",
        "Ans:-  Here's a scenario:\n",
        "\n",
        "Scenario:\n",
        "You're building a game where a player has to guess a random number between 1 and 100. The player has unlimited attempts to guess the number. After each guess, the game tells the player if their guess is higher or lower than the random number.\n",
        "\n",
        "Why a While Loop is More Suitable:\n",
        "1. Unknown number of iterations: The game doesn't know how many attempts the player will need to guess the number correctly.\n",
        "2. Conditional loop termination: The game continues to prompt the player for guesses until they correctly guess the number.\n",
        "3. Dynamic loop control: The game's loop control is based on the player's input and the random number, which changes dynamically.\n",
        "\n",
        "Example Code:\n",
        "\n",
        "import random\n",
        "\n",
        "# Generate a random number between 1 and 100\n",
        "number_to_guess = random.randint(1, 100)\n",
        "\n",
        "# Initialize the number of attempts\n",
        "attempts = 0\n",
        "\n",
        "# Game loop\n",
        "while True:\n",
        "    # Ask the player for their guess\n",
        "    user_guess = int(input(\"Guess a number between 1 and 100: \"))\n",
        "\n",
        "    # Increment the number of attempts\n",
        "    attempts += 1\n",
        "\n",
        "    # Check if the player's guess is correct\n",
        "    if user_guess == number_to_guess:\n",
        "        print(f\"Congratulations! You guessed the number in {attempts} attempts.\")\n",
        "        break\n",
        "    elif user_guess < number_to_guess:\n",
        "        print(\"Your guess is too low. Try again!\")\n",
        "    else:\n",
        "        print(\"Your guess is too high. Try again!\")"
      ],
      "metadata": {
        "id": "VTvswJfLMkwx"
      }
    },
    {
      "cell_type": "code",
      "source": [
        "# Write a Python program to print \"Hello, World!y\n",
        "\n",
        "print(\"Hello, World!\")\n"
      ],
      "metadata": {
        "colab": {
          "base_uri": "https://localhost:8080/"
        },
        "id": "l1KugDbv03RV",
        "outputId": "a1c7bcb0-41d6-4fa3-fa99-abf579b360c2"
      },
      "execution_count": 1,
      "outputs": [
        {
          "output_type": "stream",
          "name": "stdout",
          "text": [
            "Hello, World!\n"
          ]
        }
      ]
    },
    {
      "cell_type": "code",
      "source": [
        "#Write a Python program that displays your name and age\n",
        "name = \"Anish Ali\"\n",
        "age = 25\n",
        "print(\"My name is\", name, \"and I am\", age, \"years old.\")"
      ],
      "metadata": {
        "colab": {
          "base_uri": "https://localhost:8080/"
        },
        "id": "9ug-3u0z1BYd",
        "outputId": "9014de38-8632-4abc-a4d9-acaae4078656"
      },
      "execution_count": 2,
      "outputs": [
        {
          "output_type": "stream",
          "name": "stdout",
          "text": [
            "My name is Anish Ali and I am 25 years old.\n"
          ]
        }
      ]
    },
    {
      "cell_type": "code",
      "source": [
        "# Write code to print all the pre-defined keywords in Python using the keyword library8\n",
        "import keyword\n",
        "print(keyword.kwlist)"
      ],
      "metadata": {
        "colab": {
          "base_uri": "https://localhost:8080/"
        },
        "id": "bFM8MOf411q7",
        "outputId": "082b9be7-a953-499a-8bf4-820316a6b08b"
      },
      "execution_count": 3,
      "outputs": [
        {
          "output_type": "stream",
          "name": "stdout",
          "text": [
            "['False', 'None', 'True', 'and', 'as', 'assert', 'async', 'await', 'break', 'class', 'continue', 'def', 'del', 'elif', 'else', 'except', 'finally', 'for', 'from', 'global', 'if', 'import', 'in', 'is', 'lambda', 'nonlocal', 'not', 'or', 'pass', 'raise', 'return', 'try', 'while', 'with', 'yield']\n"
          ]
        }
      ]
    },
    {
      "cell_type": "code",
      "source": [
        "#Write a program that checks if a given word is a Python keyword.\n",
        "import keyword\n",
        "word = input(\"Enter a word: \")\n",
        "if keyword.iskeyword(word):\n",
        "    print(f\"{word} is a Python keyword.\")\n",
        "else:\n",
        "    print(f\"{word} is not a Python keyword.\")"
      ],
      "metadata": {
        "colab": {
          "base_uri": "https://localhost:8080/"
        },
        "id": "s7NNQCjl18-4",
        "outputId": "559dd186-be7b-4e93-ef01-35918ec0083a"
      },
      "execution_count": 4,
      "outputs": [
        {
          "output_type": "stream",
          "name": "stdout",
          "text": [
            "Enter a word: hello anish \n",
            "hello anish  is not a Python keyword.\n"
          ]
        }
      ]
    },
    {
      "cell_type": "code",
      "source": [
        "# Create a list and tuple in Python, and demonstrate how attempting to change an element works differently for each.\n",
        "\n",
        "my_list = [1, 2, 3, 4, 5]\n",
        "my_tuple = (1, 2, 3, 4, 5)\n",
        "print(\"Original list:\", my_list)\n"
      ],
      "metadata": {
        "colab": {
          "base_uri": "https://localhost:8080/"
        },
        "id": "1MWLEz-820Pr",
        "outputId": "1b946114-dddf-4086-a4a1-c72461f6087d"
      },
      "execution_count": 5,
      "outputs": [
        {
          "output_type": "stream",
          "name": "stdout",
          "text": [
            "Original list: [1, 2, 3, 4, 5]\n"
          ]
        }
      ]
    },
    {
      "cell_type": "code",
      "source": [
        "#Write a function to demonstrate the behavior of mutable and immutable arguments.\n",
        "\n",
        "def modify_list(lst):\n",
        "    lst.append(6)\n",
        "    print(\"Inside function, modified list:\", lst)"
      ],
      "metadata": {
        "id": "tHoPQKxG3nj4"
      },
      "execution_count": 6,
      "outputs": []
    },
    {
      "cell_type": "code",
      "source": [
        "# Write a program that performs basic arithmetic operations on two user-input numbers.\n",
        "num1 = float(input(\"Enter first number: \"))\n",
        "num2 = float(input(\"Enter second number: \"))\n",
        "print(\"Addition:\", num1 + num2)\n",
        "print(\"Subtraction:\", num1 - num2)\n"
      ],
      "metadata": {
        "colab": {
          "base_uri": "https://localhost:8080/"
        },
        "id": "LXyaWuap4Aj3",
        "outputId": "b3dcd4b7-1fad-46f5-8746-4ff65c3ef645"
      },
      "execution_count": 7,
      "outputs": [
        {
          "output_type": "stream",
          "name": "stdout",
          "text": [
            "Enter first number: 60\n",
            "Enter second number: 90\n",
            "Addition: 150.0\n",
            "Subtraction: -30.0\n"
          ]
        }
      ]
    },
    {
      "cell_type": "code",
      "source": [
        "#Write a program to demonstrate the use of logical operators.\n",
        "\n",
        "a = True\n",
        "b = False\n",
        "print(\"a and b:\", a and b)\n",
        "print(\"a or b:\", a or b)\n",
        "print(\"not a:\", not a)"
      ],
      "metadata": {
        "colab": {
          "base_uri": "https://localhost:8080/"
        },
        "id": "JSt0qkyp4asr",
        "outputId": "ae798a47-208d-4e67-f598-ab9e226bf5ba"
      },
      "execution_count": 8,
      "outputs": [
        {
          "output_type": "stream",
          "name": "stdout",
          "text": [
            "a and b: False\n",
            "a or b: True\n",
            "not a: False\n"
          ]
        }
      ]
    },
    {
      "cell_type": "code",
      "source": [
        "#Write a Python program to convert user input from string to integer, float, and boolean types.\n",
        "num_str = input(\"Enter a number: \")\n",
        "num_int = int(num_str)\n",
        "num_float = float(num_str)\n",
        "num_bool = bool(num_str)\n",
        "print(\"Integer:\", num_int)"
      ],
      "metadata": {
        "colab": {
          "base_uri": "https://localhost:8080/"
        },
        "id": "Anx1Dr_f40eA",
        "outputId": "ae903743-230c-4b02-9f2e-622975a59513"
      },
      "execution_count": 9,
      "outputs": [
        {
          "output_type": "stream",
          "name": "stdout",
          "text": [
            "Enter a number: 67\n",
            "Integer: 67\n"
          ]
        }
      ]
    },
    {
      "cell_type": "code",
      "source": [
        "#Write code to demonstrate type casting with list elements.\n",
        "\n",
        "\n",
        "my_list = [1, 2, 3.5, \"4\", True]\n",
        "my_list = [int(x) for x in my_list if isinstance(x, (int, float))]\n",
        "print(\"Converted list:\", my_list)"
      ],
      "metadata": {
        "colab": {
          "base_uri": "https://localhost:8080/"
        },
        "id": "HUM3sId_5GYf",
        "outputId": "5591c203-ca58-4655-b32d-5daa321bbe05"
      },
      "execution_count": 10,
      "outputs": [
        {
          "output_type": "stream",
          "name": "stdout",
          "text": [
            "Converted list: [1, 2, 3, 1]\n"
          ]
        }
      ]
    },
    {
      "cell_type": "code",
      "source": [
        "#Write a program that checks if a number is positive, negative, or zero.\n",
        "\n",
        "num = float(input(\"Enter a number: \"))\n",
        "if num > 0:\n",
        "    print(\"Positive\")\n",
        "elif num < 0:\n",
        "    print(\"Negative\")\n",
        "else:\n",
        "    print(\"Zero\")\n",
        ""
      ],
      "metadata": {
        "colab": {
          "base_uri": "https://localhost:8080/"
        },
        "id": "4InWGA2g5Ubq",
        "outputId": "0d4c47ce-9634-4dc7-9c3a-a9f82329437f"
      },
      "execution_count": 11,
      "outputs": [
        {
          "output_type": "stream",
          "name": "stdout",
          "text": [
            "Enter a number: 45\n",
            "Positive\n"
          ]
        }
      ]
    },
    {
      "cell_type": "code",
      "source": [
        "#Write a for loop to print numbers from 1 to 10.\n",
        "\n",
        "for i in range(1, 11):\n",
        "    print(i)"
      ],
      "metadata": {
        "colab": {
          "base_uri": "https://localhost:8080/"
        },
        "id": "sXtZ5m0MI_6X",
        "outputId": "9a7ada1b-2cb3-4c13-cc83-d9e75da6edfb"
      },
      "execution_count": 12,
      "outputs": [
        {
          "output_type": "stream",
          "name": "stdout",
          "text": [
            "1\n",
            "2\n",
            "3\n",
            "4\n",
            "5\n",
            "6\n",
            "7\n",
            "8\n",
            "9\n",
            "10\n"
          ]
        }
      ]
    },
    {
      "cell_type": "code",
      "source": [
        "#Write a Python program to find the sum of all even numbers between 1 and 50.\n",
        "sum_even = 0\n",
        "for i in range(2, 51, 2):\n",
        "    sum_even += i\n",
        "print(\"Sum of even numbers between 1 and 50:\", sum_even)"
      ],
      "metadata": {
        "colab": {
          "base_uri": "https://localhost:8080/"
        },
        "id": "wVAWDAhzJQTL",
        "outputId": "e7ec4d2a-14d3-4f59-9c1d-7a2b676e22d8"
      },
      "execution_count": 13,
      "outputs": [
        {
          "output_type": "stream",
          "name": "stdout",
          "text": [
            "Sum of even numbers between 1 and 50: 650\n"
          ]
        }
      ]
    },
    {
      "cell_type": "code",
      "source": [
        "#Write a program to reverse a string using a while loop.\n",
        "string = input(\"Enter a string: \")\n",
        "reversed_string = \"\"\n",
        "index = len(string) - 1\n",
        "while index >= 0:\n",
        "    reversed_string += string[index]\n",
        "    index -= 1\n",
        "print(\"Reversed string:\", reversed_string)"
      ],
      "metadata": {
        "colab": {
          "base_uri": "https://localhost:8080/"
        },
        "id": "LoaSJvKdJu6a",
        "outputId": "7defc6f5-aa77-4880-d6b1-db8d2886c4b2"
      },
      "execution_count": 14,
      "outputs": [
        {
          "output_type": "stream",
          "name": "stdout",
          "text": [
            "Enter a string: anish\n",
            "Reversed string: hsina\n"
          ]
        }
      ]
    },
    {
      "cell_type": "code",
      "source": [
        "#Write a Python program to calculate the factorial of a number provided by the user using a while loop.\n",
        "num = int(input(\"Enter a number: \"))\n",
        "factorial = 1\n",
        "i = 1\n",
        "while i <= num:\n",
        "    factorial *= i\n",
        "    i += 1\n",
        "print(\"Factorial of\", num, \"is\", factorial)"
      ],
      "metadata": {
        "colab": {
          "base_uri": "https://localhost:8080/"
        },
        "id": "B4VnAGR-Jy1z",
        "outputId": "ffde7075-d939-4d90-c6f6-03e55c8cea1d"
      },
      "execution_count": 15,
      "outputs": [
        {
          "output_type": "stream",
          "name": "stdout",
          "text": [
            "Enter a number: 32\n",
            "Factorial of 32 is 263130836933693530167218012160000000\n"
          ]
        }
      ]
    }
  ]
}